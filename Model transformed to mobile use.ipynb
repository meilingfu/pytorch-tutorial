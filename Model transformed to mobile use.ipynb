{
 "cells": [
  {
   "cell_type": "code",
   "execution_count": 3,
   "metadata": {},
   "outputs": [],
   "source": [
    "import io\n",
    "import numpy as np\n",
    "import torch.onnx\n",
    "import torch.utils.model_zoo as model_zoo\n",
    "import torch.nn.init as init\n",
    "from torch import nn"
   ]
  },
  {
   "cell_type": "code",
   "execution_count": 4,
   "metadata": {},
   "outputs": [
    {
     "name": "stdout",
     "output_type": "stream",
     "text": [
      "SuperResolutionNet(\n",
      "  (relu): ReLU()\n",
      "  (conv1): Conv2d(1, 64, kernel_size=(5, 5), stride=(1, 1), padding=(2, 2))\n",
      "  (conv2): Conv2d(64, 64, kernel_size=(3, 3), stride=(1, 1), padding=(1, 1))\n",
      "  (conv3): Conv2d(64, 32, kernel_size=(3, 3), stride=(1, 1), padding=(1, 1))\n",
      "  (conv4): Conv2d(32, 9, kernel_size=(3, 3), stride=(1, 1), padding=(1, 1))\n",
      "  (pixel_shuffle): PixelShuffle(upscale_factor=3)\n",
      ")\n"
     ]
    }
   ],
   "source": [
    "#Super Resolution model definition in Pytorch\n",
    "class SuperResolutionNet(nn.Module):\n",
    "    def __init__(self,upscale_factor,inplace=False):\n",
    "        super(SuperResolutionNet,self).__init__()\n",
    "        self.relu=nn.ReLU(inplace=inplace)\n",
    "        self.conv1=nn.Conv2d(1,64,(5,5),(1,1),(2,2))\n",
    "        self.conv2=nn.Conv2d(64,64,(3,3),(1,1),(1,1))\n",
    "        self.conv3=nn.Conv2d(64,32,(3,3),(1,1),(1,1))\n",
    "        self.conv4=nn.Conv2d(32,upscale_factor**2,(3,3),(1,1),(1,1))\n",
    "        self.pixel_shuffle=nn.PixelShuffle(upscale_factor)\n",
    "        self._initialize_weights()\n",
    "    def forward(self,x):\n",
    "        x=self.relu(self.conv1(x))\n",
    "        x=self.relu(self.conv2(x))\n",
    "        x=self.relu(self.conv3(x))\n",
    "        x=self.pixel_shuffle(self.conv4(x))\n",
    "        return x\n",
    "    def _initialize_weights(self):\n",
    "        init.orthogonal_(self.conv1.weight,init.calculate_gain('relu'))\n",
    "        init.orthogonal_(self.conv2.weight,init.calculate_gain('relu'))\n",
    "        init.orthogonal_(self.conv3.weight,init.calculate_gain('relu'))\n",
    "        init.orthogonal_(self.conv4.weight)\n",
    "torch_model=SuperResolutionNet(upscale_factor=3)\n",
    "print(torch_model)"
   ]
  },
  {
   "cell_type": "code",
   "execution_count": 5,
   "metadata": {},
   "outputs": [
    {
     "name": "stderr",
     "output_type": "stream",
     "text": [
      "Downloading: \"https://s3.amazonaws.com/pytorch/test_data/export/superres_epoch100-44c6958e.pth\" to C:\\Users\\13051/.torch\\models\\superres_epoch100-44c6958e.pth\n",
      "100.0%\n"
     ]
    }
   ],
   "source": [
    "#Load pretrained model weights\n",
    "model_url='https://s3.amazonaws.com/pytorch/test_data/export/superres_epoch100-44c6958e.pth'\n",
    "batch_size=1\n",
    "#Initialize model with pretrained weights\n",
    "map_location=lambda storage,loc:storage\n",
    "if torch.cuda.is_available():\n",
    "    map_location=None\n",
    "torch_model.load_state_dict(model_zoo.load_url(model_url,map_location=map_location))\n",
    "#Set the train mode False 只运行前向传播\n",
    "torch_model.train(False)\n",
    "\n",
    "#Model input\n",
    "x=torch.randn(batch_size,1,224,224,requires_grad=True)\n",
    "#Export model，运行模型之后的输出\n",
    "torch_out=torch.onnx._export(torch_model,   #运行模型\n",
    "                            x,             #Model input(或者含有多个输入的元组)\n",
    "                            'super_resolution.onnx',   #保存模型的位置\n",
    "                            export_params=True)       #保存模型的参数权重"
   ]
  },
  {
   "cell_type": "code",
   "execution_count": 7,
   "metadata": {},
   "outputs": [
    {
     "ename": "ImportError",
     "evalue": "cannot import name 'caffe2_pb2'",
     "output_type": "error",
     "traceback": [
      "\u001b[1;31m---------------------------------------------------------------------------\u001b[0m",
      "\u001b[1;31mImportError\u001b[0m                               Traceback (most recent call last)",
      "\u001b[1;32m<ipython-input-7-e61a814ceeeb>\u001b[0m in \u001b[0;36m<module>\u001b[1;34m\u001b[0m\n\u001b[0;32m      1\u001b[0m \u001b[1;31m#在caffe2中使用导出的onnx模型。证明在caffe2和Pytorch中计算的相同的网络\u001b[0m\u001b[1;33m\u001b[0m\u001b[1;33m\u001b[0m\u001b[0m\n\u001b[0;32m      2\u001b[0m \u001b[1;32mimport\u001b[0m \u001b[0monnx\u001b[0m\u001b[1;33m\u001b[0m\u001b[0m\n\u001b[1;32m----> 3\u001b[1;33m \u001b[1;32mimport\u001b[0m \u001b[0mcaffe2\u001b[0m\u001b[1;33m.\u001b[0m\u001b[0mpython\u001b[0m\u001b[1;33m.\u001b[0m\u001b[0monnx\u001b[0m\u001b[1;33m.\u001b[0m\u001b[0mbackend\u001b[0m \u001b[1;32mas\u001b[0m \u001b[0monnx_caffe2_backend\u001b[0m\u001b[1;33m\u001b[0m\u001b[0m\n\u001b[0m",
      "\u001b[1;32m~\\Anaconda3\\envs\\torch10\\lib\\site-packages\\caffe2\\python\\__init__.py\u001b[0m in \u001b[0;36m<module>\u001b[1;34m\u001b[0m\n\u001b[0;32m      1\u001b[0m \u001b[1;32mfrom\u001b[0m \u001b[0m__future__\u001b[0m \u001b[1;32mimport\u001b[0m \u001b[0mabsolute_import\u001b[0m\u001b[1;33m,\u001b[0m \u001b[0mdivision\u001b[0m\u001b[1;33m,\u001b[0m \u001b[0mprint_function\u001b[0m\u001b[1;33m,\u001b[0m \u001b[0municode_literals\u001b[0m\u001b[1;33m\u001b[0m\u001b[0m\n\u001b[1;32m----> 2\u001b[1;33m \u001b[1;32mfrom\u001b[0m \u001b[0mcaffe2\u001b[0m\u001b[1;33m.\u001b[0m\u001b[0mproto\u001b[0m \u001b[1;32mimport\u001b[0m \u001b[0mcaffe2_pb2\u001b[0m\u001b[1;33m\u001b[0m\u001b[0m\n\u001b[0m\u001b[0;32m      3\u001b[0m \u001b[1;31m# TODO: refactor & remove the following alias\u001b[0m\u001b[1;33m\u001b[0m\u001b[1;33m\u001b[0m\u001b[0m\n\u001b[0;32m      4\u001b[0m \u001b[0mcaffe2_pb2\u001b[0m\u001b[1;33m.\u001b[0m\u001b[0mCPU\u001b[0m \u001b[1;33m=\u001b[0m \u001b[0mcaffe2_pb2\u001b[0m\u001b[1;33m.\u001b[0m\u001b[0mPROTO_CPU\u001b[0m\u001b[1;33m\u001b[0m\u001b[0m\n\u001b[0;32m      5\u001b[0m \u001b[0mcaffe2_pb2\u001b[0m\u001b[1;33m.\u001b[0m\u001b[0mCUDA\u001b[0m \u001b[1;33m=\u001b[0m \u001b[0mcaffe2_pb2\u001b[0m\u001b[1;33m.\u001b[0m\u001b[0mPROTO_CUDA\u001b[0m\u001b[1;33m\u001b[0m\u001b[0m\n",
      "\u001b[1;31mImportError\u001b[0m: cannot import name 'caffe2_pb2'"
     ]
    }
   ],
   "source": [
    "#在caffe2中使用导出的onnx模型。证明在caffe2和Pytorch中计算的相同的网络\n",
    "import onnx\n",
    "import caffe2.python.onnx.backend as onnx_caffe2_backend\n"
   ]
  },
  {
   "cell_type": "code",
   "execution_count": null,
   "metadata": {},
   "outputs": [],
   "source": []
  }
 ],
 "metadata": {
  "kernelspec": {
   "display_name": "Python 3",
   "language": "python",
   "name": "python3"
  },
  "language_info": {
   "codemirror_mode": {
    "name": "ipython",
    "version": 3
   },
   "file_extension": ".py",
   "mimetype": "text/x-python",
   "name": "python",
   "nbconvert_exporter": "python",
   "pygments_lexer": "ipython3",
   "version": "3.6.6"
  }
 },
 "nbformat": 4,
 "nbformat_minor": 2
}

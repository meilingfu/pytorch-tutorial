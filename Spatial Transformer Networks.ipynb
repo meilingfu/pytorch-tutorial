{
 "cells": [
  {
   "cell_type": "code",
   "execution_count": 1,
   "metadata": {},
   "outputs": [],
   "source": [
    "from __future__ import print_function\n",
    "import torch\n",
    "import torch.nn as nn\n",
    "import torch.nn.functional as F\n",
    "import torch.optim as optim\n",
    "import torchvision\n",
    "from torchvision import datasets,transforms\n",
    "import numpy as np\n",
    "import matplotlib.pyplot as plt\n",
    "\n",
    "plt.ion()  #interactive mode"
   ]
  },
  {
   "cell_type": "code",
   "execution_count": 2,
   "metadata": {
    "scrolled": false
   },
   "outputs": [
    {
     "name": "stdout",
     "output_type": "stream",
     "text": [
      "cuda\n"
     ]
    }
   ],
   "source": [
    "#Loading data\n",
    "device=torch.device('cuda' if torch.cuda.is_available() else 'cpu')\n",
    "train_loader=torch.utils.data.DataLoader(\n",
    "    datasets.MNIST(root='./mnist',train=True,download=True,transform=transforms.Compose([\n",
    "        transforms.ToTensor(),transforms.Normalize((0.1307,), (0.3081,))\n",
    "    ])),batch_size=64,shuffle=True,num_workers=4)\n",
    "test_loader=torch.utils.data.DataLoader(\n",
    "    datasets.MNIST(root='./mnist',train=False,transform=transforms.Compose([\n",
    "        transforms.ToTensor(),transforms.Normalize((0.1307,),(0.3081,))\n",
    "    ])),batch_size=64,shuffle=True,num_workers=4)\n",
    "print(device)"
   ]
  },
  {
   "cell_type": "code",
   "execution_count": 3,
   "metadata": {},
   "outputs": [
    {
     "name": "stdout",
     "output_type": "stream",
     "text": [
      "Net(\n",
      "  (conv1): Conv2d(1, 10, kernel_size=(5, 5), stride=(1, 1))\n",
      "  (conv2): Conv2d(10, 20, kernel_size=(5, 5), stride=(1, 1))\n",
      "  (conv2_drop): Dropout2d(p=0.5)\n",
      "  (fc1): Linear(in_features=320, out_features=50, bias=True)\n",
      "  (fc2): Linear(in_features=50, out_features=10, bias=True)\n",
      "  (localization): Sequential(\n",
      "    (0): Conv2d(1, 8, kernel_size=(7, 7), stride=(1, 1))\n",
      "    (1): MaxPool2d(kernel_size=2, stride=2, padding=0, dilation=1, ceil_mode=False)\n",
      "    (2): ReLU(inplace)\n",
      "    (3): Conv2d(8, 10, kernel_size=(5, 5), stride=(1, 1))\n",
      "    (4): MaxPool2d(kernel_size=2, stride=2, padding=0, dilation=1, ceil_mode=False)\n",
      "    (5): ReLU(inplace)\n",
      "  )\n",
      "  (fc_loc): Sequential(\n",
      "    (0): Linear(in_features=90, out_features=32, bias=True)\n",
      "    (1): ReLU(inplace)\n",
      "    (2): Linear(in_features=32, out_features=6, bias=True)\n",
      "  )\n",
      ")\n"
     ]
    }
   ],
   "source": [
    "#Depicting STN\n",
    "class Net(nn.Module):\n",
    "    def __init__(self):\n",
    "        super(Net,self).__init__()\n",
    "        self.conv1=nn.Conv2d(1,10,kernel_size=5)\n",
    "        self.conv2=nn.Conv2d(10,20,kernel_size=5)\n",
    "        self.conv2_drop=nn.Dropout2d()\n",
    "        self.fc1=nn.Linear(320,50)\n",
    "        self.fc2=nn.Linear(50,10)\n",
    "        \n",
    "        #Spatial transformer localization-network\n",
    "        self.localization=nn.Sequential(\n",
    "            nn.Conv2d(1,8,kernel_size=7),\n",
    "            nn.MaxPool2d(2,stride=2),\n",
    "            nn.ReLU(True),\n",
    "            nn.Conv2d(8,10,kernel_size=5),\n",
    "            nn.MaxPool2d(2,stride=2),\n",
    "            nn.ReLU(True)\n",
    "        )\n",
    "        #Regressor for the 3*2 affine matrix\n",
    "        self.fc_loc=nn.Sequential(\n",
    "            nn.Linear(10*3*3,32),\n",
    "            nn.ReLU(True),\n",
    "            nn.Linear(32,3*2)\n",
    "        )\n",
    "        #Initialize the weights/bias with identity transformation\n",
    "        self.fc_loc[2].weight.data.zero_()\n",
    "        self.fc_loc[2].bias.data.copy_(torch.tensor([1,0,0,0,1,0],dtype=torch.float))\n",
    "    #STN forward function\n",
    "    def stn(self,x):\n",
    "        xs=self.localization(x)\n",
    "        xs=xs.view(-1,10*3*3)\n",
    "        theta=self.fc_loc(xs)\n",
    "        theta=theta.view(-1,2,3)\n",
    "        grid=F.affine_grid(theta,x.size())\n",
    "        x=F.grid_sample(x,grid)\n",
    "        return x\n",
    "    def forward(self,x):\n",
    "        #transform the input\n",
    "        x=self.stn(x)\n",
    "        #perform the usual forward pass\n",
    "        x=F.relu(F.max_pool2d(self.conv1(x),2))\n",
    "        x=F.relu(F.max_pool2d(self.conv2_drop(self.conv2(x)),2))\n",
    "        x=x.view(-1,320)\n",
    "        x=F.relu(self.fc1(x))\n",
    "        x=F.dropout(x,training=self.training)\n",
    "        x=self.fc2(x)\n",
    "        return F.log_softmax(x,dim=1)\n",
    "model=Net().to(device)\n",
    "print(model)"
   ]
  },
  {
   "cell_type": "code",
   "execution_count": 4,
   "metadata": {},
   "outputs": [
    {
     "name": "stdout",
     "output_type": "stream",
     "text": [
      "Train epoch: 1 [0/60000 (0%)]\t Loss: 2.320503\n",
      "Train epoch: 1 [32000/60000 (53%)]\t Loss: 2.247193\n"
     ]
    },
    {
     "name": "stderr",
     "output_type": "stream",
     "text": [
      "C:\\Users\\13051\\Anaconda3\\lib\\site-packages\\torch\\nn\\_reduction.py:49: UserWarning: size_average and reduce args will be deprecated, please use reduction='sum' instead.\n",
      "  warnings.warn(warning.format(ret))\n"
     ]
    },
    {
     "name": "stdout",
     "output_type": "stream",
     "text": [
      "\n",
      "Test set:Average loss: 2.2080,Accuracy: 3291/10000 (33%)\n",
      "\n",
      "Train epoch: 2 [0/60000 (0%)]\t Loss: 2.196327\n",
      "Train epoch: 2 [32000/60000 (53%)]\t Loss: 2.154889\n",
      "\n",
      "Test set:Average loss: 1.8470,Accuracy: 5905/10000 (59%)\n",
      "\n",
      "Train epoch: 3 [0/60000 (0%)]\t Loss: 1.916653\n",
      "Train epoch: 3 [32000/60000 (53%)]\t Loss: 1.674397\n",
      "\n",
      "Test set:Average loss: 1.0738,Accuracy: 7860/10000 (79%)\n",
      "\n",
      "Train epoch: 4 [0/60000 (0%)]\t Loss: 1.225688\n",
      "Train epoch: 4 [32000/60000 (53%)]\t Loss: 1.220575\n",
      "\n",
      "Test set:Average loss: 0.5498,Accuracy: 8811/10000 (88%)\n",
      "\n",
      "Train epoch: 5 [0/60000 (0%)]\t Loss: 0.832433\n",
      "Train epoch: 5 [32000/60000 (53%)]\t Loss: 0.718891\n",
      "\n",
      "Test set:Average loss: 0.3566,Accuracy: 9117/10000 (91%)\n",
      "\n",
      "Train epoch: 6 [0/60000 (0%)]\t Loss: 0.779314\n",
      "Train epoch: 6 [32000/60000 (53%)]\t Loss: 0.616300\n",
      "\n",
      "Test set:Average loss: 0.2528,Accuracy: 9352/10000 (94%)\n",
      "\n",
      "Train epoch: 7 [0/60000 (0%)]\t Loss: 0.448286\n",
      "Train epoch: 7 [32000/60000 (53%)]\t Loss: 0.570060\n",
      "\n",
      "Test set:Average loss: 0.2153,Accuracy: 9419/10000 (94%)\n",
      "\n",
      "Train epoch: 8 [0/60000 (0%)]\t Loss: 0.562255\n",
      "Train epoch: 8 [32000/60000 (53%)]\t Loss: 0.636720\n",
      "\n",
      "Test set:Average loss: 0.2136,Accuracy: 9360/10000 (94%)\n",
      "\n",
      "Train epoch: 9 [0/60000 (0%)]\t Loss: 0.608695\n",
      "Train epoch: 9 [32000/60000 (53%)]\t Loss: 0.496465\n",
      "\n",
      "Test set:Average loss: 0.1666,Accuracy: 9505/10000 (95%)\n",
      "\n",
      "Train epoch: 10 [0/60000 (0%)]\t Loss: 0.388807\n",
      "Train epoch: 10 [32000/60000 (53%)]\t Loss: 0.323248\n",
      "\n",
      "Test set:Average loss: 0.1589,Accuracy: 9526/10000 (95%)\n",
      "\n",
      "Train epoch: 11 [0/60000 (0%)]\t Loss: 0.396462\n",
      "Train epoch: 11 [32000/60000 (53%)]\t Loss: 0.206967\n",
      "\n",
      "Test set:Average loss: 0.1398,Accuracy: 9588/10000 (96%)\n",
      "\n",
      "Train epoch: 12 [0/60000 (0%)]\t Loss: 0.405144\n",
      "Train epoch: 12 [32000/60000 (53%)]\t Loss: 0.334246\n",
      "\n",
      "Test set:Average loss: 0.1641,Accuracy: 9526/10000 (95%)\n",
      "\n",
      "Train epoch: 13 [0/60000 (0%)]\t Loss: 0.239527\n",
      "Train epoch: 13 [32000/60000 (53%)]\t Loss: 0.456857\n",
      "\n",
      "Test set:Average loss: 0.1497,Accuracy: 9563/10000 (96%)\n",
      "\n",
      "Train epoch: 14 [0/60000 (0%)]\t Loss: 0.302288\n",
      "Train epoch: 14 [32000/60000 (53%)]\t Loss: 0.297042\n",
      "\n",
      "Test set:Average loss: 0.1218,Accuracy: 9624/10000 (96%)\n",
      "\n",
      "Train epoch: 15 [0/60000 (0%)]\t Loss: 0.283756\n",
      "Train epoch: 15 [32000/60000 (53%)]\t Loss: 0.204589\n",
      "\n",
      "Test set:Average loss: 0.1266,Accuracy: 9602/10000 (96%)\n",
      "\n",
      "Train epoch: 16 [0/60000 (0%)]\t Loss: 0.406578\n",
      "Train epoch: 16 [32000/60000 (53%)]\t Loss: 0.433089\n",
      "\n",
      "Test set:Average loss: 0.1098,Accuracy: 9664/10000 (97%)\n",
      "\n",
      "Train epoch: 17 [0/60000 (0%)]\t Loss: 0.314993\n",
      "Train epoch: 17 [32000/60000 (53%)]\t Loss: 0.189537\n",
      "\n",
      "Test set:Average loss: 0.1047,Accuracy: 9676/10000 (97%)\n",
      "\n",
      "Train epoch: 18 [0/60000 (0%)]\t Loss: 0.262817\n",
      "Train epoch: 18 [32000/60000 (53%)]\t Loss: 0.166046\n",
      "\n",
      "Test set:Average loss: 0.1520,Accuracy: 9548/10000 (95%)\n",
      "\n",
      "Train epoch: 19 [0/60000 (0%)]\t Loss: 0.257371\n",
      "Train epoch: 19 [32000/60000 (53%)]\t Loss: 0.268413\n",
      "\n",
      "Test set:Average loss: 0.0964,Accuracy: 9708/10000 (97%)\n",
      "\n",
      "Train epoch: 20 [0/60000 (0%)]\t Loss: 0.293928\n",
      "Train epoch: 20 [32000/60000 (53%)]\t Loss: 0.437593\n",
      "\n",
      "Test set:Average loss: 0.0947,Accuracy: 9698/10000 (97%)\n",
      "\n"
     ]
    }
   ],
   "source": [
    "#Training the model\n",
    "optimizer=optim.SGD(model.parameters(),lr=0.001)\n",
    "def train(epoch):\n",
    "    model.train()\n",
    "    for batch_idx,(data,target) in enumerate(train_loader):\n",
    "        data,target=data.to(device),target.to(device)\n",
    "        optimizer.zero_grad()\n",
    "        output=model(data)\n",
    "        loss=F.nll_loss(output,target)\n",
    "        loss.backward()\n",
    "        optimizer.step()\n",
    "        if batch_idx%500==0:\n",
    "            print('Train epoch: {} [{}/{} ({:.0f}%)]\\t Loss: {:.6f}'.format(\n",
    "                epoch,batch_idx*len(data),len(train_loader.dataset),100.*batch_idx/len(train_loader),loss.item()))\n",
    "#A simple test procedure to measure STN the performance on MNIST\n",
    "def test():\n",
    "    with torch.no_grad():\n",
    "        model.eval()\n",
    "        test_loss=0.0\n",
    "        correct=0\n",
    "        for data,target in test_loader:\n",
    "            data,target=data.to(device),target.to(device)\n",
    "            output=model(data)\n",
    "            #sum up batch loss\n",
    "            test_loss+=F.nll_loss(output,target,size_average=False).item()\n",
    "            #get the index of max log probability\n",
    "            pred=output.max(1,keepdim=True)[1]\n",
    "            correct+=pred.eq(target.view_as(pred)).sum().item()\n",
    "        test_loss/=len(test_loader.dataset)\n",
    "        print('\\nTest set:Average loss: {:.4f},Accuracy: {}/{} ({:.0f}%)\\n'.format(\n",
    "                                    test_loss,correct,len(test_loader.dataset),100.*correct/len(test_loader.dataset)))\n",
    "for epoch in range(1,20+1):\n",
    "    train(epoch)\n",
    "    test()"
   ]
  },
  {
   "cell_type": "code",
   "execution_count": 5,
   "metadata": {},
   "outputs": [
    {
     "data": {
      "image/png": "[encoded data removed]",
      "text/plain": [
       "<Figure size 432x288 with 2 Axes>"
      ]
     },
     "metadata": {
      "needs_background": "light"
     },
     "output_type": "display_data"
    }
   ],
   "source": [
    "#Visualizing STN result\n",
    "def convert_image_np(inp):\n",
    "    inp=inp.numpy().transpose((1,2,0))\n",
    "    mean=np.array([0.485, 0.456, 0.406])\n",
    "    std=np.array([0.229, 0.224, 0.225])\n",
    "    inp=std*inp+mean\n",
    "    inp=np.clip(inp,0,1)\n",
    "    return inp\n",
    "\n",
    "#可视化spatial transformation layer的输出\n",
    "def visualize_stn():\n",
    "    with torch.no_grad():\n",
    "        #Get a batch of training data\n",
    "        data=next(iter(test_loader))[0].to(device)\n",
    "        input_tensor=data.cpu()\n",
    "        transformed_input_tensor=model.stn(data).cpu()\n",
    "        in_grid=convert_image_np(torchvision.utils.make_grid(input_tensor))\n",
    "        out_grid=convert_image_np(torchvision.utils.make_grid(transformed_input_tensor))\n",
    "        \n",
    "        #plot the result side-by-side\n",
    "        f,axarr=plt.subplots(1,2)\n",
    "        axarr[0].imshow(in_grid)\n",
    "        axarr[0].set_title('Dataset image')\n",
    "        axarr[1].imshow(out_grid)\n",
    "        axarr[1].set_title('Transformed image')    \n",
    "\n",
    "#Visualize the STN transformation on some batch\n",
    "visualize_stn()\n",
    "plt.ioff()\n",
    "plt.show()"
   ]
  },
  {
   "cell_type": "code",
   "execution_count": 7,
   "metadata": {},
   "outputs": [
    {
     "name": "stdout",
     "output_type": "stream",
     "text": [
      "Pytorch Version: 1.0.0\n",
      "Torchvision Version: 0.2.1\n"
     ]
    }
   ],
   "source": [
    "print('Pytorch Version:',torch.__version__)\n",
    "print('Torchvision Version:',torchvision.__version__)"
   ]
  },
  {
   "cell_type": "code",
   "execution_count": 8,
   "metadata": {},
   "outputs": [],
   "source": [
    "import caffe2"
   ]
  },
  {
   "cell_type": "code",
   "execution_count": null,
   "metadata": {},
   "outputs": [],
   "source": []
  }
 ],
 "metadata": {
  "kernelspec": {
   "display_name": "Python 3",
   "language": "python",
   "name": "python3"
  },
  "language_info": {
   "codemirror_mode": {
    "name": "ipython",
    "version": 3
   },
   "file_extension": ".py",
   "mimetype": "text/x-python",
   "name": "python",
   "nbconvert_exporter": "python",
   "pygments_lexer": "ipython3",
   "version": "3.7.0"
  }
 },
 "nbformat": 4,
 "nbformat_minor": 2
}

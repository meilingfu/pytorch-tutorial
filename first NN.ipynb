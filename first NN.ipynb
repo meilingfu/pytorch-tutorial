{
 "cells": [
  {
   "cell_type": "code",
   "execution_count": 2,
   "metadata": {},
   "outputs": [
    {
     "name": "stdout",
     "output_type": "stream",
     "text": [
      "Net(\n",
      "  (conv1): Conv2d(1, 6, kernel_size=(5, 5), stride=(1, 1))\n",
      "  (conv2): Conv2d(6, 16, kernel_size=(5, 5), stride=(1, 1))\n",
      "  (fn1): Linear(in_features=400, out_features=120, bias=True)\n",
      "  (fn2): Linear(in_features=120, out_features=84, bias=True)\n",
      "  (fn3): Linear(in_features=84, out_features=10, bias=True)\n",
      ")\n"
     ]
    }
   ],
   "source": [
    "import torch\n",
    "import torch.nn as nn\n",
    "import torch.nn.functional as F\n",
    "\n",
    "class Net(nn.Module):\n",
    "    def __init__(self):\n",
    "        super(Net,self).__init__()\n",
    "        self.conv1=nn.Conv2d(1,6,5)\n",
    "        self.conv2=nn.Conv2d(6,16,5)\n",
    "        \n",
    "        self.fn1=nn.Linear(16*5*5,120)\n",
    "        self.fn2=nn.Linear(120,84)\n",
    "        self.fn3=nn.Linear(84,10)\n",
    "        \n",
    "    def forward(self,x):\n",
    "        x=F.max_pool2d(F.relu(self.conv1(x)),(2,2))\n",
    "        x=F.max_pool2d(F.relu(self.conv2(x)),2)\n",
    "        x=x.view(-1,self.num_flat_features(x))\n",
    "        x=F.relu(self.fn1(x))\n",
    "        x=F.relu(self.fn2(x))\n",
    "        x=self.fn3(x)\n",
    "        return x\n",
    "    \n",
    "    def num_flat_features(self,x):\n",
    "        size=x.size()[1:]\n",
    "        num_features=1\n",
    "        for s in size:\n",
    "            num_features*=s\n",
    "        return num_features\n",
    "    \n",
    "net=Net()\n",
    "print(net)"
   ]
  },
  {
   "cell_type": "code",
   "execution_count": 3,
   "metadata": {},
   "outputs": [
    {
     "name": "stdout",
     "output_type": "stream",
     "text": [
      "10\n",
      "torch.Size([6, 1, 5, 5])\n"
     ]
    }
   ],
   "source": [
    "params=list(net.parameters())\n",
    "print(len(params))\n",
    "print(params[0].size())   #每一层的weights和bias"
   ]
  },
  {
   "cell_type": "code",
   "execution_count": 5,
   "metadata": {},
   "outputs": [
    {
     "name": "stdout",
     "output_type": "stream",
     "text": [
      "32\n",
      "tensor([[ 0.1422, -0.0219, -0.0221, -0.0134, -0.0383,  0.0955,  0.0942,  0.0232,\n",
      "         -0.0832,  0.0742]], grad_fn=<ThAddmmBackward>)\n"
     ]
    }
   ],
   "source": [
    "input=torch.randn(1,1,32,32)\n",
    "print(input.size()[1:][2])    #输出每个维度的大小\n",
    "out=net(input)\n",
    "print(out)"
   ]
  },
  {
   "cell_type": "code",
   "execution_count": 6,
   "metadata": {},
   "outputs": [
    {
     "name": "stdout",
     "output_type": "stream",
     "text": [
      "tensor([-2.0589, -0.6986,  0.3063, -1.8509,  0.2840,  0.7609, -0.3242,  0.7246,\n",
      "         1.9010,  2.0921])\n",
      "tensor([[-2.0589, -0.6986,  0.3063, -1.8509,  0.2840,  0.7609, -0.3242,  0.7246,\n",
      "          1.9010,  2.0921]])\n",
      "tensor(1.8009, grad_fn=<MseLossBackward>)\n"
     ]
    }
   ],
   "source": [
    "target=torch.randn(10)\n",
    "print(target)\n",
    "target=target.view(1,-1)\n",
    "print(target)\n",
    "criterion=nn.MSELoss()\n",
    "loss=criterion(out,target)\n",
    "print(loss)"
   ]
  },
  {
   "cell_type": "code",
   "execution_count": 7,
   "metadata": {},
   "outputs": [
    {
     "name": "stdout",
     "output_type": "stream",
     "text": [
      "<MseLossBackward object at 0x0000015BB853DDD8>\n",
      "<ThAddmmBackward object at 0x0000015BB853D7F0>\n",
      "<ExpandBackward object at 0x0000015BB853DDD8>\n"
     ]
    }
   ],
   "source": [
    "print(loss.grad_fn)\n",
    "print(loss.grad_fn.next_functions[0][0])\n",
    "print(loss.grad_fn.next_functions[0][0].next_functions[0][0])"
   ]
  },
  {
   "cell_type": "code",
   "execution_count": 8,
   "metadata": {},
   "outputs": [
    {
     "name": "stdout",
     "output_type": "stream",
     "text": [
      "conv1.bias.grad before backward\n",
      "None\n",
      "conv1.bias.grad after backward\n",
      "tensor([ 0.0164, -0.0071,  0.0046,  0.0252,  0.0116, -0.0205])\n"
     ]
    }
   ],
   "source": [
    "net.zero_grad()\n",
    "print(\"conv1.bias.grad before backward\")\n",
    "print(net.conv1.bias.grad)\n",
    "\n",
    "loss.backward()\n",
    "\n",
    "print(\"conv1.bias.grad after backward\")\n",
    "print(net.conv1.bias.grad)"
   ]
  },
  {
   "cell_type": "code",
   "execution_count": 9,
   "metadata": {},
   "outputs": [
    {
     "name": "stdout",
     "output_type": "stream",
     "text": [
      "tensor(1.7319, grad_fn=<MseLossBackward>)\n"
     ]
    }
   ],
   "source": [
    "learning_rate=0.01\n",
    "for f in net.parameters():\n",
    "    f.data.sub_(f.grad.data*learning_rate)    #一次反向传播，更新参数，用新的参数计算误差\n",
    "out=net(input)\n",
    "print(criterion(out,target))"
   ]
  },
  {
   "cell_type": "code",
   "execution_count": 11,
   "metadata": {},
   "outputs": [
    {
     "name": "stdout",
     "output_type": "stream",
     "text": [
      "Step: 0 | train loss:1.7319\n",
      "Step: 1 | train loss:1.6744\n",
      "Step: 2 | train loss:1.6289\n",
      "Step: 3 | train loss:1.5844\n",
      "Step: 4 | train loss:1.5375\n",
      "Step: 5 | train loss:1.4903\n",
      "Step: 6 | train loss:1.4396\n",
      "Step: 7 | train loss:1.3844\n",
      "Step: 8 | train loss:1.3272\n",
      "Step: 9 | train loss:1.2639\n"
     ]
    }
   ],
   "source": [
    "optimizer=torch.optim.SGD(net.parameters(),lr=0.01)\n",
    "for i in range(10):\n",
    "    output=net(input)\n",
    "    loss=criterion(output,target)\n",
    "    \n",
    "    optimizer.zero_grad()\n",
    "    loss.backward()\n",
    "    optimizer.step()\n",
    "    \n",
    "    print('Step:',i,'| train loss:%.4f' % loss.data)"
   ]
  },
  {
   "cell_type": "code",
   "execution_count": null,
   "metadata": {},
   "outputs": [],
   "source": []
  }
 ],
 "metadata": {
  "kernelspec": {
   "display_name": "Python 3",
   "language": "python",
   "name": "python3"
  },
  "language_info": {
   "codemirror_mode": {
    "name": "ipython",
    "version": 3
   },
   "file_extension": ".py",
   "mimetype": "text/x-python",
   "name": "python",
   "nbconvert_exporter": "python",
   "pygments_lexer": "ipython3",
   "version": "3.7.0"
  }
 },
 "nbformat": 4,
 "nbformat_minor": 2
}
